{
  "nbformat": 4,
  "nbformat_minor": 0,
  "metadata": {
    "colab": {
      "provenance": []
    },
    "kernelspec": {
      "name": "python3",
      "display_name": "Python 3"
    },
    "language_info": {
      "name": "python"
    }
  },
  "cells": [
    {
      "cell_type": "code",
      "execution_count": null,
      "metadata": {
        "colab": {
          "base_uri": "https://localhost:8080/"
        },
        "id": "V-TE_Vfyo6Us",
        "outputId": "f8ee0ec9-a894-4f6f-9d69-469994b45d85"
      },
      "outputs": [
        {
          "output_type": "stream",
          "name": "stdout",
          "text": [
            "Feuilles disponibles : ['Janvier', 'Février', 'Mars', 'Avril', 'Mai', 'Juin', 'Septembre', 'Octobre', 'Novembre', 'Décembre']\n",
            "Traitement de la feuille : Janvier\n",
            "Traitement de la feuille : Février\n",
            "Traitement de la feuille : Mars\n",
            "Traitement de la feuille : Avril\n",
            "Traitement de la feuille : Mai\n",
            "Traitement de la feuille : Juin\n",
            "Traitement de la feuille : Septembre\n",
            "Traitement de la feuille : Octobre\n",
            "Traitement de la feuille : Novembre\n",
            "Traitement de la feuille : Décembre\n",
            "Le fichier Excel avec les colonnes 'Départ' et 'Arrivée' pour toutes les feuilles a été créé avec succès.\n"
          ]
        }
      ],
      "source": [
        "import pandas as pd\n",
        "\n",
        "# Charger le fichier Excel\n",
        "xls = pd.ExcelFile('WE 1€ 2024.xlsx')\n",
        "\n",
        "# Lister les feuilles disponibles (mois)\n",
        "sheet_names = xls.sheet_names\n",
        "print(\"Feuilles disponibles :\", sheet_names)\n",
        "\n",
        "# Fonction pour séparer la colonne 'Parcours'\n",
        "def split_parcours(df):\n",
        "    # Séparer la colonne 'Parcours' en deux nouvelles colonnes 'Départ' et 'Arrivée'\n",
        "    split_data = df['Parcours'].str.split(' - ', expand=True)\n",
        "\n",
        "    # Assurer que les colonnes \"Départ\" et \"Arrivée\" existent\n",
        "    df['Départ'] = split_data[0] if 0 in split_data.columns else \"Inconnu\"\n",
        "    df['Arrivée'] = split_data[1] if 1 in split_data.columns else \"Inconnu\"\n",
        "    return df\n",
        "\n",
        "# Dictionnaire pour stocker les DataFrames modifiés de chaque feuille\n",
        "modified_sheets = {}\n",
        "\n",
        "# Parcourir chaque feuille (chaque mois)\n",
        "for sheet_name in sheet_names:\n",
        "    print(f\"Traitement de la feuille : {sheet_name}\")\n",
        "\n",
        "    # Charger la feuille\n",
        "    df = pd.read_excel(xls, sheet_name=sheet_name)\n",
        "\n",
        "    # Appliquer la fonction de séparation\n",
        "    df_modified = split_parcours(df)\n",
        "\n",
        "    # Ajouter le DataFrame modifié dans le dictionnaire\n",
        "    modified_sheets[sheet_name] = df_modified\n",
        "\n",
        "# Sauvegarder toutes les feuilles modifiées dans un nouveau fichier Excel\n",
        "with pd.ExcelWriter('parcours_separes_toutes_feuilles.xlsx') as writer:\n",
        "    for sheet_name, df in modified_sheets.items():\n",
        "        df.to_excel(writer, sheet_name=sheet_name, index=False)\n",
        "\n",
        "# Afficher un message de confirmation\n",
        "print(\"Le fichier Excel avec les colonnes 'Départ' et 'Arrivée' pour toutes les feuilles a été créé avec succès.\")\n"
      ]
    }
  ]
}