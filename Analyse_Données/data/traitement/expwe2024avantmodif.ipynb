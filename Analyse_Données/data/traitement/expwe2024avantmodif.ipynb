{
  "nbformat": 4,
  "nbformat_minor": 0,
  "metadata": {
    "colab": {
      "provenance": []
    },
    "kernelspec": {
      "name": "python3",
      "display_name": "Python 3"
    },
    "language_info": {
      "name": "python"
    }
  },
  "cells": [
    {
      "cell_type": "code",
      "execution_count": null,
      "metadata": {
        "id": "8_22izk3WueJ"
      },
      "outputs": [],
      "source": [
        "import pandas as pd\n",
        "import matplotlib.pyplot as plt\n",
        "\n",
        "\n",
        "# Vérifier les feuilles disponibles\n",
        "xls = pd.ExcelFile('WE 1€ 2024.xlsx')\n",
        "sheet_names = xls.sheet_names\n",
        "print(\"Feuilles disponibles : \", sheet_names)\n",
        "\n",
        "# Charger une feuille spécifique (par exemple, la première feuille)\n",
        "df = pd.read_excel(xls, sheet_name=sheet_names[1])\n",
        "print(\"Données de la première feuille :\")\n",
        "print(df.head())"
      ]
    },
    {
      "cell_type": "code",
      "source": [
        "import pandas as pd\n",
        "import matplotlib.pyplot as plt\n",
        "\n",
        "\n",
        "xls = pd.ExcelFile('WE 1€ 2024.xlsx')\n",
        "\n",
        "# Lister les feuilles disponibles (mois)\n",
        "sheet_names = xls.sheet_names\n",
        "print(\"Feuilles disponibles :\", sheet_names)\n",
        "\n",
        "# Dictionnaire pour stocker les résultats\n",
        "top_destinations = {}\n",
        "top_parcours = {}\n",
        "\n",
        "# Parcourir chaque feuille (chaque mois) pour analyser les destinations favorites et les parcours populaires\n",
        "for sheet in sheet_names:\n",
        "    # Charger la feuille\n",
        "    df = pd.read_excel(xls, sheet_name=sheet)\n",
        "\n",
        "    # Nettoyer les données : supprimer les lignes où \"Parcours\" est manquant\n",
        "    df_clean = df.dropna(subset=['Parcours'])\n",
        "\n",
        "    # Extraire les destinations (gares d'arrivée) de la colonne \"Parcours\"\n",
        "    df_clean['Destination'] = df_clean['Parcours'].str.split(' - ').str[1]\n",
        "\n",
        "    # Objectif #1 : Destinations favorites selon les mois (les 10 destinations les plus populaires)\n",
        "    top_dest = df_clean['Destination'].value_counts().head(10)\n",
        "    top_destinations[sheet] = top_dest\n",
        "\n",
        "    # Objectif #2 : Parcours favoris (le plus populaire)\n",
        "    top_parc = df_clean['Parcours'].value_counts().head(1)\n",
        "    top_parcours[sheet] = top_parc\n",
        "\n",
        "    # Affichage des résultats\n",
        "    print(f\"Top 10 destinations pour {sheet}:\")\n",
        "    print(top_dest)\n",
        "    print(f\"Top 10 parcours pour {sheet}:\")\n",
        "    print(top_parc)\n",
        "\n",
        "    # Visualisation des 10 meilleures destinations pour chaque mois\n",
        "    top_dest.plot(kind='bar', figsize=(10,6), title=f\"Destinations favorites en {sheet}\")\n",
        "    plt.ylabel(\"Nombre de voyages\")\n",
        "    plt.xlabel(\"Destination\")\n",
        "    plt.xticks(rotation=45)\n",
        "    plt.show()\n",
        "\n",
        "\n"
      ],
      "metadata": {
        "id": "gBMepDvRWz6P"
      },
      "execution_count": null,
      "outputs": []
    }
  ]
}